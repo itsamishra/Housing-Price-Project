{
 "cells": [
  {
   "cell_type": "code",
   "execution_count": 1,
   "metadata": {},
   "outputs": [],
   "source": [
    "import pandas as pd\n",
    "import numpy as np\n",
    "from sklearn.linear_model import LinearRegression\n",
    "import matplotlib.pyplot as plt"
   ]
  },
  {
   "cell_type": "code",
   "execution_count": 2,
   "metadata": {},
   "outputs": [],
   "source": [
    "df = pd.read_csv(\"vanHomeData.csv\")"
   ]
  },
  {
   "cell_type": "code",
   "execution_count": 3,
   "metadata": {},
   "outputs": [
    {
     "data": {
      "text/html": [
       "<div>\n",
       "<style scoped>\n",
       "    .dataframe tbody tr th:only-of-type {\n",
       "        vertical-align: middle;\n",
       "    }\n",
       "\n",
       "    .dataframe tbody tr th {\n",
       "        vertical-align: top;\n",
       "    }\n",
       "\n",
       "    .dataframe thead th {\n",
       "        text-align: right;\n",
       "    }\n",
       "</style>\n",
       "<table border=\"1\" class=\"dataframe\">\n",
       "  <thead>\n",
       "    <tr style=\"text-align: right;\">\n",
       "      <th></th>\n",
       "      <th>listingId</th>\n",
       "      <th>name</th>\n",
       "      <th>price</th>\n",
       "      <th>numBeds</th>\n",
       "      <th>numBath</th>\n",
       "      <th>squareFootage</th>\n",
       "      <th>homeType</th>\n",
       "      <th>location</th>\n",
       "      <th>sellerName</th>\n",
       "      <th>sellerAgency</th>\n",
       "    </tr>\n",
       "  </thead>\n",
       "  <tbody>\n",
       "    <tr>\n",
       "      <th>0</th>\n",
       "      <td>R2307754</td>\n",
       "      <td>1098 Wolfe Avenue</td>\n",
       "      <td>12980000</td>\n",
       "      <td>5</td>\n",
       "      <td>6</td>\n",
       "      <td>5766</td>\n",
       "      <td>House</td>\n",
       "      <td>Featured ListingShaughnessy</td>\n",
       "      <td>Wilson Faith</td>\n",
       "      <td>Faith Wilson Group</td>\n",
       "    </tr>\n",
       "    <tr>\n",
       "      <th>1</th>\n",
       "      <td>R2328661</td>\n",
       "      <td>107-3162 Riverwalk Avenue</td>\n",
       "      <td>1380000</td>\n",
       "      <td>2</td>\n",
       "      <td>2</td>\n",
       "      <td>1097</td>\n",
       "      <td>Apt/Condo</td>\n",
       "      <td>Champlain Heights</td>\n",
       "      <td>Glen Hao</td>\n",
       "      <td>LeHomes Realty First</td>\n",
       "    </tr>\n",
       "    <tr>\n",
       "      <th>2</th>\n",
       "      <td>R2328689</td>\n",
       "      <td>703-1171 Jervis Street</td>\n",
       "      <td>1948900</td>\n",
       "      <td>2</td>\n",
       "      <td>2</td>\n",
       "      <td>1345</td>\n",
       "      <td>Apt/Condo</td>\n",
       "      <td>West End</td>\n",
       "      <td>Iman Moyed</td>\n",
       "      <td>RE/MAX Crest Realty</td>\n",
       "    </tr>\n",
       "    <tr>\n",
       "      <th>3</th>\n",
       "      <td>R2328601</td>\n",
       "      <td>708-2528 Maple Street</td>\n",
       "      <td>1129000</td>\n",
       "      <td>2</td>\n",
       "      <td>2</td>\n",
       "      <td>865</td>\n",
       "      <td>Apt/Condo</td>\n",
       "      <td>Kitsilano</td>\n",
       "      <td>Lance Phillips</td>\n",
       "      <td>Royal LePage Sussex</td>\n",
       "    </tr>\n",
       "    <tr>\n",
       "      <th>4</th>\n",
       "      <td>R2328429</td>\n",
       "      <td>1770 W 62nd Avenue</td>\n",
       "      <td>5388000</td>\n",
       "      <td>5</td>\n",
       "      <td>6</td>\n",
       "      <td>4633</td>\n",
       "      <td>House</td>\n",
       "      <td>South Granville</td>\n",
       "      <td>Elaine Wu</td>\n",
       "      <td>LeHomes Realty Premier</td>\n",
       "    </tr>\n",
       "  </tbody>\n",
       "</table>\n",
       "</div>"
      ],
      "text/plain": [
       "  listingId                       name     price  numBeds  numBath  \\\n",
       "0  R2307754          1098 Wolfe Avenue  12980000        5        6   \n",
       "1  R2328661  107-3162 Riverwalk Avenue   1380000        2        2   \n",
       "2  R2328689     703-1171 Jervis Street   1948900        2        2   \n",
       "3  R2328601      708-2528 Maple Street   1129000        2        2   \n",
       "4  R2328429         1770 W 62nd Avenue   5388000        5        6   \n",
       "\n",
       "   squareFootage   homeType                     location      sellerName  \\\n",
       "0           5766      House  Featured ListingShaughnessy    Wilson Faith   \n",
       "1           1097  Apt/Condo            Champlain Heights        Glen Hao   \n",
       "2           1345  Apt/Condo                     West End      Iman Moyed   \n",
       "3            865  Apt/Condo                    Kitsilano  Lance Phillips   \n",
       "4           4633      House              South Granville       Elaine Wu   \n",
       "\n",
       "             sellerAgency  \n",
       "0      Faith Wilson Group  \n",
       "1    LeHomes Realty First  \n",
       "2     RE/MAX Crest Realty  \n",
       "3     Royal LePage Sussex  \n",
       "4  LeHomes Realty Premier  "
      ]
     },
     "execution_count": 3,
     "metadata": {},
     "output_type": "execute_result"
    }
   ],
   "source": [
    "df.head()"
   ]
  },
  {
   "cell_type": "code",
   "execution_count": 4,
   "metadata": {},
   "outputs": [],
   "source": [
    "square_footage = np.array(df[\"squareFootage\"])\n",
    "square_footage = square_footage[:, np.newaxis]"
   ]
  },
  {
   "cell_type": "code",
   "execution_count": 5,
   "metadata": {},
   "outputs": [
    {
     "data": {
      "text/plain": [
       "array([12980000,  1380000,  1948900,  1129000,  5388000,  5388000,\n",
       "        1398000,  1050000,  1398000,  1680000,   498000,   520000,\n",
       "        1500000,   799900,   699000,  1180000,   660000,   825000,\n",
       "        1548000,   688000,   749900,   998800,  2388000,  1688000,\n",
       "         799000,  5368000, 29998000,  2348000,  1488000,  5388000,\n",
       "         998000,  3088000,  1299000,   499900,   579000,   848000,\n",
       "         595000,  1698000,   595000,  2599000,   670000,  3899000,\n",
       "        1050000,  1075000,  5988000,  8680000,  1180000,  1350000,\n",
       "        1098800,  2088000,  2650000,  1798000,   729000,  1399000,\n",
       "         419000,  1800000,   869000,  1200000,  1868000,  3888000,\n",
       "         445000,   999000,  5450000,  5900000,   549000,  2198000,\n",
       "        1985800,   749000,   469000,  1120000,   599000,   418000,\n",
       "         739000,   888000,  4200000,  1450000,   549000,   849900,\n",
       "        2800000,   735000,  1600000,  1600000,  1700000,  1600000])"
      ]
     },
     "execution_count": 5,
     "metadata": {},
     "output_type": "execute_result"
    }
   ],
   "source": [
    "price = np.array(df[\"price\"])\n",
    "price"
   ]
  },
  {
   "cell_type": "code",
   "execution_count": 6,
   "metadata": {
    "scrolled": true
   },
   "outputs": [
    {
     "name": "stderr",
     "output_type": "stream",
     "text": [
      "/Library/Frameworks/Python.framework/Versions/3.6/lib/python3.6/site-packages/sklearn/linear_model/base.py:485: RuntimeWarning: internal gelsd driver lwork query error, required iwork dimension not returned. This is likely the result of LAPACK bug 0038, fixed in LAPACK 3.2.2 (released July 21, 2010). Falling back to 'gelss' driver.\n",
      "  linalg.lstsq(X, y)\n"
     ]
    },
    {
     "data": {
      "text/plain": [
       "LinearRegression(copy_X=True, fit_intercept=True, n_jobs=None,\n",
       "         normalize=False)"
      ]
     },
     "execution_count": 6,
     "metadata": {},
     "output_type": "execute_result"
    }
   ],
   "source": [
    "linreg = LinearRegression()\n",
    "linreg.fit(square_footage, price)"
   ]
  },
  {
   "cell_type": "code",
   "execution_count": 7,
   "metadata": {},
   "outputs": [
    {
     "name": "stdout",
     "output_type": "stream",
     "text": [
      "coef: [1991.84819709]\n",
      "intercept: -1160093.4750367142\n"
     ]
    }
   ],
   "source": [
    "print(f\"coef: {linreg.coef_}\")\n",
    "print(f\"intercept: {linreg.intercept_}\")"
   ]
  },
  {
   "cell_type": "code",
   "execution_count": 8,
   "metadata": {},
   "outputs": [
    {
     "data": {
      "image/png": "[encoded data removed]",
      "text/plain": [
       "<Figure size 432x288 with 1 Axes>"
      ]
     },
     "metadata": {
      "needs_background": "light"
     },
     "output_type": "display_data"
    }
   ],
   "source": [
    "plt.scatter(square_footage, price)\n",
    "x = [[1000], [2000], [3000], [4000], [5000], [6000]]\n",
    "y = x*linreg.coef_ + linreg.intercept_\n",
    "pred = linreg.intercept_ + linreg.coef_*square_footage\n",
    "plt.plot(square_footage, pred)\n",
    "\n",
    "plt.show()"
   ]
  },
  {
   "cell_type": "code",
   "execution_count": null,
   "metadata": {},
   "outputs": [],
   "source": []
  }
 ],
 "metadata": {
  "kernelspec": {
   "display_name": "Python 3",
   "language": "python",
   "name": "python3"
  },
  "language_info": {
   "codemirror_mode": {
    "name": "ipython",
    "version": 3
   },
   "file_extension": ".py",
   "mimetype": "text/x-python",
   "name": "python",
   "nbconvert_exporter": "python",
   "pygments_lexer": "ipython3",
   "version": "3.6.7"
  }
 },
 "nbformat": 4,
 "nbformat_minor": 2
}
